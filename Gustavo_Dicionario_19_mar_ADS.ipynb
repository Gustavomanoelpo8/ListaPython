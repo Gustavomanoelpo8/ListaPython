{
  "nbformat": 4,
  "nbformat_minor": 0,
  "metadata": {
    "colab": {
      "provenance": [],
      "authorship_tag": "ABX9TyNZ6YPe01SIWosuYgQbrUBw",
      "include_colab_link": true
    },
    "kernelspec": {
      "name": "python3",
      "display_name": "Python 3"
    },
    "language_info": {
      "name": "python"
    }
  },
  "cells": [
    {
      "cell_type": "markdown",
      "metadata": {
        "id": "view-in-github",
        "colab_type": "text"
      },
      "source": [
        "<a href=\"https://colab.research.google.com/github/Gustavomanoelpo8/ListaPython/blob/main/Gustavo_Dicionario_19_mar_ADS.ipynb\" target=\"_parent\"><img src=\"https://colab.research.google.com/assets/colab-badge.svg\" alt=\"Open In Colab\"/></a>"
      ]
    },
    {
      "cell_type": "markdown",
      "source": [
        "Lista de Exercicio calouros\n"
      ],
      "metadata": {
        "id": "Juw__FnPvZ-Q"
      }
    },
    {
      "cell_type": "code",
      "source": [
        "#1\n",
        "print (\" Hello world\")"
      ],
      "metadata": {
        "id": "4om_WcIHtyTv"
      },
      "execution_count": null,
      "outputs": []
    },
    {
      "cell_type": "code",
      "source": [
        "#2\n",
        "num = int (input (\" digite um numero\"))\n",
        "print (\"você está digitou o numero> \", num)"
      ],
      "metadata": {
        "id": "PDwR8Zxst2vt"
      },
      "execution_count": null,
      "outputs": []
    },
    {
      "cell_type": "code",
      "source": [
        "#3\n",
        "num = int (input (\" digite um numero \"))\n",
        "print (\"o numero informado foi:\", num)"
      ],
      "metadata": {
        "id": "oP-92IHDt7lw"
      },
      "execution_count": null,
      "outputs": []
    },
    {
      "cell_type": "code",
      "source": [
        "#4\n",
        "num1 =int (input(\" digite qualque numero decimal:\"))\n",
        "num2 =int (input(\"digite qualquer numero decimal:\"))\n",
        "print(\"os numeros digitados foram\", num1, num2)"
      ],
      "metadata": {
        "id": "3gvzblgYuAvy"
      },
      "execution_count": null,
      "outputs": []
    },
    {
      "cell_type": "code",
      "source": [
        "#5\n",
        "num1 = int(input(\" digite o primeiro número: \"))\n",
        "num2 = int(input(\"digite o segundo número: \"))\n",
        "\n",
        "print(f\"você informou os números {num1} e {num2}\")"
      ],
      "metadata": {
        "id": "nFF0B1efuCms"
      },
      "execution_count": null,
      "outputs": []
    },
    {
      "cell_type": "code",
      "source": [
        "#6\n",
        "num = float(input(\" digite um número real:\"))\n",
        "print(\"você informou o número\",num)"
      ],
      "metadata": {
        "id": "Hu2QhgqnuF3M"
      },
      "execution_count": null,
      "outputs": []
    },
    {
      "cell_type": "code",
      "source": [
        "#7\n",
        "temp = float(input(\" digite a temperatura em graus Celsius: \"))\n",
        "graus = temp * 1.8 + 32\n",
        "print(f\"A temperatura em graus Fahrenheit é: {graus}\")"
      ],
      "metadata": {
        "id": "_uxyjoaSuMae"
      },
      "execution_count": null,
      "outputs": []
    },
    {
      "cell_type": "code",
      "source": [
        "#8\n",
        "name = input(\"A primeira letra do seu nome é: \")\n",
        "print(f\"a primeira letra do seu nome é {name}\")"
      ],
      "metadata": {
        "id": "EP8hcc4UuVS4"
      },
      "execution_count": null,
      "outputs": []
    },
    {
      "cell_type": "code",
      "source": [
        "#9\n",
        "name = input(\"Diga sua cor preferida? \")\n",
        "print(f\"Acho que você gosta da cor {name}\")"
      ],
      "metadata": {
        "id": "GwqhOsRbuca6"
      },
      "execution_count": null,
      "outputs": []
    },
    {
      "cell_type": "code",
      "source": [
        "#10 s\n",
        "name = input(\"escreva uma carne ou suco:\")\n",
        "name1 = input(\"escreva uma carne ou suco:\")\n",
        "print(f\"sua carne é, {name1} e suco é, {name}\")"
      ],
      "metadata": {
        "id": "xH8NDa6IufgS"
      },
      "execution_count": null,
      "outputs": []
    },
    {
      "cell_type": "code",
      "source": [
        "#11\n",
        "num = float(input(\"digite um numero: \"))\n",
        "print(\"seu numero selecionado foi:\",num)\n",
        "num2= num **2\n",
        "print(f\"numero selecionado, {num} donumero dobrado, {num2}\")"
      ],
      "metadata": {
        "id": "wJ-ZDZYpuo2R"
      },
      "execution_count": null,
      "outputs": []
    },
    {
      "cell_type": "code",
      "source": [
        "#12"
      ],
      "metadata": {
        "id": "80MgnGLnuw0K"
      },
      "execution_count": null,
      "outputs": []
    },
    {
      "cell_type": "code",
      "source": [
        "#13\n",
        "num= int (input(\"digite um numero:\"))\n",
        "num1= int (input(\"digite um numero:\"))\n",
        "num2= num + num1\n",
        "print(f\"A soma é {num}+{num1} = {num2}\")\n"
      ],
      "metadata": {
        "id": "IsH4ZIEzuxCm"
      },
      "execution_count": null,
      "outputs": []
    },
    {
      "cell_type": "code",
      "source": [
        "#14\n",
        "num= float (input(\"digite um numero:\"))\n",
        "num1= float (input(\"digite um numero:\"))\n",
        "num2= num + num1\n",
        "print(f\"A soma é {num}+{num1} = {num2}\")"
      ],
      "metadata": {
        "id": "zec5Ua4mu6S0"
      },
      "execution_count": null,
      "outputs": []
    },
    {
      "cell_type": "code",
      "source": [
        "#15\n",
        "num= int (input(\"digite um numero:\"))\n",
        "num1= int (input(\"digite um numero:\"))\n",
        "num2= num + num1\n",
        "num3= num * num1\n",
        "num4= num / num1\n",
        "num5= num - num1\n",
        "print(f\"os resultados aritimeticos são: {num}+{num1} é = '{num2}', {num}*{num1} é = '{num3}', {num}/{num1} é = '{num4}', {num}-{num1} é = '{num5}'\")"
      ],
      "metadata": {
        "id": "Cxzsx_m0vA9X"
      },
      "execution_count": null,
      "outputs": []
    },
    {
      "cell_type": "code",
      "source": [
        "#16.\n",
        "sal=float (input(\"seu salário mensal \"))\n",
        "ven=int (input(\"informe seu total de vendas \"))\n",
        "comi= int (input(\"qunato é seu porcentual de comissão? \"))\n",
        "resu1 = ven % comi\n",
        "sesul2 = resu1 + sal\n",
        "print (f\"salário bruto: '{sesul2}'\")"
      ],
      "metadata": {
        "id": "2cM4C9wpvFCD"
      },
      "execution_count": null,
      "outputs": []
    },
    {
      "cell_type": "code",
      "execution_count": null,
      "metadata": {
        "id": "v1iAWrvDu7DB",
        "colab": {
          "base_uri": "https://localhost:8080/"
        },
        "outputId": "d6e2c521-6993-4ab6-e753-f8bd71647e9e"
      },
      "outputs": [
        {
          "output_type": "stream",
          "name": "stdout",
          "text": [
            "[99887766, 99887755]\n"
          ]
        }
      ],
      "source": [
        "listaNomeTels = [\"Maria\", [99887766,99887755],\"Pedro\", [92345678], \"Joaquim\", [99887711, 99665533]]\n",
        "tel = listaNomeTels[listaNomeTels.index(\"Maria\")+1]\n",
        "print(tel)"
      ]
    },
    {
      "cell_type": "code",
      "source": [
        "#lista 2"
      ],
      "metadata": {
        "id": "UM9uIvVlvWlJ"
      },
      "execution_count": null,
      "outputs": []
    },
    {
      "cell_type": "code",
      "source": [
        "#1\n",
        "real1=int(input(\"digite um numero igual ou maior que 10: \"))\n",
        "if real1 >10:\n",
        "    print(\"O numero informado'\", real1,\"' é maior ou igual a 10\")"
      ],
      "metadata": {
        "id": "S7drraLevclX"
      },
      "execution_count": null,
      "outputs": []
    },
    {
      "cell_type": "code",
      "source": [
        "#2\n",
        "real1=int(input(\"digite um numero igual ou maior que 10: \"))\n",
        "if real1 >10:\n",
        "    print(\"O numero informado'\", real1,\"' é maior ou igual a 10\")\n",
        "\n",
        "elif real1 == 10:\n",
        "  print(\"o numero é 10\")"
      ],
      "metadata": {
        "id": "lBEpObZLvhdr"
      },
      "execution_count": null,
      "outputs": []
    },
    {
      "cell_type": "code",
      "source": [
        "#3\n",
        "real1=int(input(\"digite um numero igual ou maior que 10: \"))\n",
        "if real1 >10:\n",
        "    print(\"O numero informado'\", real1,\"' é maior ou igual a 10\")\n",
        "\n",
        "elif real1 == 10:\n",
        "  print(\"o numero é 10\")\n",
        "\n",
        "else:\n",
        "   print(f\"o numero {real1}é menor que 10\")"
      ],
      "metadata": {
        "id": "eAI2vgRJvkPv"
      },
      "execution_count": null,
      "outputs": []
    },
    {
      "cell_type": "code",
      "source": [
        "#4\n",
        "num= float(input(\"informe um numero, positivo, negativo ou nulo: \"))\n",
        "if num > 0:\n",
        "  print(f\"{num} É positivo.\")\n",
        "elif num == 0:\n",
        "   print(f\"{num} É nulo.\")\n",
        "else:\n",
        "  print(f\"{num} É negativo.\")"
      ],
      "metadata": {
        "id": "7Tn-jbYhvmw9"
      },
      "execution_count": null,
      "outputs": []
    },
    {
      "cell_type": "code",
      "source": [
        "#5\n",
        "num= int (input(\"informe um numero inteiro: \"))\n",
        "if num %3 == 0:\n",
        "  print(f\"numero informado{num} é multiplo de três\")\n",
        "else:\n",
        "  print(f\"{num} não é multiplo de três\")"
      ],
      "metadata": {
        "id": "naUF6EECvofA"
      },
      "execution_count": null,
      "outputs": []
    },
    {
      "cell_type": "code",
      "source": [
        "#6\n",
        "num= int (input(\"INSIRA UM NÚMERO MULTIPLO DE TRÊS \\n\"))\n",
        "if num %3 == 0:\n",
        "  print(f\"O numero {num} é multiplo de três.\")\n",
        "else:\n",
        "  print(f\"{num} não é multiplo de três.\")"
      ],
      "metadata": {
        "id": "Cq1hehWWvohk"
      },
      "execution_count": null,
      "outputs": []
    },
    {
      "cell_type": "code",
      "source": [
        "#7.\n",
        "var = int (input(\"Classificador de PAR ou IMPAR\\n\"))\n",
        "if var %2 == 0:\n",
        "  print(f\"{var} É par\")\n",
        "else:\n",
        "  print(f\"{var} É impar\")"
      ],
      "metadata": {
        "id": "ld4N4C9Ivoj1"
      },
      "execution_count": null,
      "outputs": []
    },
    {
      "cell_type": "code",
      "source": [
        "#8\n",
        "dois= int (input(\"Insira um número inteiro:\\n\"))\n",
        "if dois > 20:\n",
        "  print(f\"\\n{dois / 2}\")\n",
        "else:\n",
        "  print(f\"\\n{dois * 2}\")"
      ],
      "metadata": {
        "id": "oSIYuWW0voml"
      },
      "execution_count": null,
      "outputs": []
    },
    {
      "cell_type": "code",
      "source": [
        "#9\n",
        "real= int (input(\"Insira um número inteiro:\\n\"))\n",
        "real1= int (input(\"Insira um outro número inteiro:\\n\"))\n",
        "real2= real + real1\n",
        "if real2 >10:\n",
        "  print(f\"o numero ao quadrado\\n{real2 **2}\")\n",
        "else:\n",
        "  print(f\"a metade do número\\n{real2 /2}\")"
      ],
      "metadata": {
        "id": "vRluiNKIvopN"
      },
      "execution_count": null,
      "outputs": []
    },
    {
      "cell_type": "code",
      "source": [
        "#10.\n",
        "p =float (input(\"Quanto você tirou na 1º prova? \"))\n",
        "pp =float (input(\"Quanto você tirou na 2º prova? \"))\n",
        "ppp =float (input(\"Quanto você tirou na 3º prova? \"))\n",
        "\n",
        "m= (p * 2 + pp * 3 + ppp * 5 ) /10\n",
        "if m >= 6:\n",
        "  print (f\"{m} Aprovado\")\n",
        "else:\n",
        "  print (f\"{m} Reprovado\")"
      ],
      "metadata": {
        "id": "Ysejlji3vorj"
      },
      "execution_count": null,
      "outputs": []
    },
    {
      "cell_type": "code",
      "source": [
        "#12\n",
        "oi = int (input(\"Insira um número: \"))\n",
        "if oi > 20:\n",
        "  print (f\"{oi} esta entre 20 a 90\")\n",
        "else:\n",
        "  print(f\"{oi} É menor que vinte \")"
      ],
      "metadata": {
        "id": "z0hWRHz7vouS"
      },
      "execution_count": null,
      "outputs": []
    },
    {
      "cell_type": "code",
      "source": [
        "#1. Elabore um algoritmo que imprima na tela lado a lado o texto \"Hello World!\" 10 vezes.\n",
        "alg = 0\n",
        "while alg < 10:\n",
        "  print(\"Hello World\", end =\" \")\n",
        "  alg += 1"
      ],
      "metadata": {
        "id": "sFc-L4Z8vowx"
      },
      "execution_count": null,
      "outputs": []
    },
    {
      "cell_type": "code",
      "source": [
        "#2 Elabore um algoritmo que imprima na tela o texto \"Hello World!\" 10 vezes, um por linha.\n",
        "var = 2\n",
        "while var < 12:\n",
        " print(\"Hello World! \\n\")\n",
        " var += 1"
      ],
      "metadata": {
        "id": "oy4nBhUnvoy3"
      },
      "execution_count": null,
      "outputs": []
    },
    {
      "cell_type": "code",
      "source": [
        "#3 Elabore um algoritmo que imprima todos os números inteiros de 1 até 100 inclusive.\n",
        "for var in range (0, 101):\n",
        "    print(f\"{var}\")"
      ],
      "metadata": {
        "id": "1zEV8_2mvo1d"
      },
      "execution_count": null,
      "outputs": []
    },
    {
      "cell_type": "code",
      "source": [
        "#6  Elabore um algoritmo que imprima todos os números pares inteiros de 1 até 1000.\n",
        "for num in range(1, 1001):\n",
        "  if num % 2 ==0:\n",
        "    print (f\"{num}\")"
      ],
      "metadata": {
        "id": "sZeKZIefvo3q"
      },
      "execution_count": null,
      "outputs": []
    },
    {
      "cell_type": "code",
      "source": [
        "#7. Elabore um algoritmo que imprima todos os números ímpares de 1000 até 0\n",
        "for var in range(1, 1001):\n",
        "  if var % 2 ==1:\n",
        "    print (f\"{var}\")"
      ],
      "metadata": {
        "id": "ku_6uyQNvo6L"
      },
      "execution_count": null,
      "outputs": []
    },
    {
      "cell_type": "code",
      "source": [
        "#8. Elabore um algoritmo que imprima a soma dos 100 primeiros números inteiros positivos.\n",
        "for var in range(1, 101):\n",
        "  if var % 2 ==0:\n",
        "    print (f\"{var}\")"
      ],
      "metadata": {
        "id": "K0pkx0V59wwF"
      },
      "execution_count": null,
      "outputs": []
    },
    {
      "cell_type": "code",
      "source": [
        "#9. Elabore um algoritmo que solicite ao usuário um número inteiro que indicará a quantidade\n",
        "#de vezes que o texto \"Hello World!\" será impresso na tela, um em cada linha.\n",
        "num = int (input(\"insira um número inteiro:  \"))\n",
        "num = 0\n",
        "while num < num:\n",
        " print(\"\\n Hello World!\")\n",
        " num += 1"
      ],
      "metadata": {
        "id": "eC0gmDxz9wzJ"
      },
      "execution_count": null,
      "outputs": []
    },
    {
      "cell_type": "code",
      "source": [
        "#10. Elabore um algoritmo que solicite ao usuário uma palavra e um número inteiro que\n",
        "#indicará a quantidade de vezes que a palavra digitada será impressa na tela, um em cada\n",
        "#linha\n",
        "num1 = int (input(\"digite um numero: \"))\n",
        "var = input(\"Digite uma palavra: \")\n",
        "num2 = 0\n",
        "while num2 < num1:\n",
        "  print(f\"{var}\")\n",
        "  num2 += 1"
      ],
      "metadata": {
        "id": "wHSm__E99w2M"
      },
      "execution_count": null,
      "outputs": []
    },
    {
      "cell_type": "code",
      "source": [],
      "metadata": {
        "id": "YUo4ceCv9w5A"
      },
      "execution_count": null,
      "outputs": []
    },
    {
      "cell_type": "code",
      "source": [],
      "metadata": {
        "id": "pn3n8ZYh-ENF"
      },
      "execution_count": null,
      "outputs": []
    }
  ]
}