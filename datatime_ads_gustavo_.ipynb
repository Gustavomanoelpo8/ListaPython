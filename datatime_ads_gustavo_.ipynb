{
  "nbformat": 4,
  "nbformat_minor": 0,
  "metadata": {
    "colab": {
      "provenance": [],
      "authorship_tag": "ABX9TyN92TIyyABCaXvw0Jj3VQb6",
      "include_colab_link": true
    },
    "kernelspec": {
      "name": "python3",
      "display_name": "Python 3"
    },
    "language_info": {
      "name": "python"
    }
  },
  "cells": [
    {
      "cell_type": "markdown",
      "metadata": {
        "id": "view-in-github",
        "colab_type": "text"
      },
      "source": [
        "<a href=\"https://colab.research.google.com/github/Gustavomanoelpo8/ListaPython/blob/main/datatime_ads_gustavo_.ipynb\" target=\"_parent\"><img src=\"https://colab.research.google.com/assets/colab-badge.svg\" alt=\"Open In Colab\"/></a>"
      ]
    },
    {
      "cell_type": "code",
      "execution_count": null,
      "metadata": {
        "colab": {
          "base_uri": "https://localhost:8080/"
        },
        "id": "j5hY0toTzj-m",
        "outputId": "94389247-e212-4b0d-f511-9253d87514b6"
      },
      "outputs": [
        {
          "output_type": "stream",
          "name": "stdout",
          "text": [
            "Requirement already satisfied: pandas in /usr/local/lib/python3.10/dist-packages (2.0.3)\n",
            "Requirement already satisfied: python-dateutil>=2.8.2 in /usr/local/lib/python3.10/dist-packages (from pandas) (2.8.2)\n",
            "Requirement already satisfied: pytz>=2020.1 in /usr/local/lib/python3.10/dist-packages (from pandas) (2023.4)\n",
            "Requirement already satisfied: tzdata>=2022.1 in /usr/local/lib/python3.10/dist-packages (from pandas) (2024.1)\n",
            "Requirement already satisfied: numpy>=1.21.0 in /usr/local/lib/python3.10/dist-packages (from pandas) (1.25.2)\n",
            "Requirement already satisfied: six>=1.5 in /usr/local/lib/python3.10/dist-packages (from python-dateutil>=2.8.2->pandas) (1.16.0)\n"
          ]
        }
      ],
      "source": [
        "pip install pandas\n",
        "#instalando pandas"
      ]
    },
    {
      "cell_type": "code",
      "source": [
        "import pandas as pd\n",
        "nomes = ['Jason', 'maria', 'gustavo']\n",
        "idades = ['21', '19', '32']\n",
        "dados = list(zip(nomes, idades))\n",
        "print (dados)\n",
        "df = pd.DataFrame(data = dados)\n",
        "print (df)"
      ],
      "metadata": {
        "colab": {
          "base_uri": "https://localhost:8080/"
        },
        "id": "omk9OJCr2Efl",
        "outputId": "822c214b-12c1-4295-c695-57f3ffb55ea8"
      },
      "execution_count": null,
      "outputs": [
        {
          "output_type": "stream",
          "name": "stdout",
          "text": [
            "[('Jason', '21'), ('maria', '19'), ('gustavo', '32')]\n",
            "         0   1\n",
            "0    Jason  21\n",
            "1    maria  19\n",
            "2  gustavo  32\n"
          ]
        }
      ]
    },
    {
      "cell_type": "code",
      "source": [
        "#modificando data frame\n",
        "import pandas as pd\n",
        "dados = [('maria', 19), ('gustavo', 21), ('Jason', 32)]\n",
        "colunas = ['nomes', 'Idade']\n",
        "linhas = ['A', 'B', 'C']\n",
        "df = pd.DataFrame (data = dados, columns = colunas)\n",
        "print(df)"
      ],
      "metadata": {
        "colab": {
          "base_uri": "https://localhost:8080/"
        },
        "id": "C4TJSV575Jqk",
        "outputId": "6ab65cf9-ac02-459b-d329-decdc6b33ad9"
      },
      "execution_count": null,
      "outputs": [
        {
          "output_type": "stream",
          "name": "stdout",
          "text": [
            "     nomes  Idade\n",
            "0    maria     19\n",
            "1  gustavo     21\n",
            "2    Jason     32\n"
          ]
        }
      ]
    },
    {
      "cell_type": "code",
      "source": [
        "import pandas as pd\n",
        "nomes = ['Jason', 'maria', 'gustavo']\n",
        "idades = ['21', '19', '32']\n",
        "dados = list(zip(nomes, idades))\n",
        "print(dados)\n",
        "df = pd.DataFrame(data = dados)\n",
        "print(df)\n",
        "\n",
        "#manipulando a print\n",
        "df.columns = ['nomes', 'idades']\n",
        "df.index = ['A', 'B', 'C']\n",
        "print(df)"
      ],
      "metadata": {
        "colab": {
          "base_uri": "https://localhost:8080/"
        },
        "id": "NbiRcZNl6nMs",
        "outputId": "30c723cc-1b68-4ab2-dadf-87ee7788f252"
      },
      "execution_count": null,
      "outputs": [
        {
          "output_type": "stream",
          "name": "stdout",
          "text": [
            "[('Jason', '21'), ('maria', '19'), ('gustavo', '32')]\n",
            "         0   1\n",
            "0    Jason  21\n",
            "1    maria  19\n",
            "2  gustavo  32\n",
            "\n",
            "*          0   1\n",
            "0    Jason  21\n",
            "1    maria  19\n",
            "2  gustavo  32\n",
            "     nomes idades\n",
            "A    Jason     21\n",
            "B    maria     19\n",
            "C  gustavo     32\n"
          ]
        }
      ]
    },
    {
      "cell_type": "code",
      "source": [
        "import pandas as pd\n",
        "print(df)\n",
        "print(list(df.index))"
      ],
      "metadata": {
        "colab": {
          "base_uri": "https://localhost:8080/"
        },
        "id": "1GM28Bxm8pif",
        "outputId": "c246ec87-8f30-4335-a54b-7156a2abdcd0"
      },
      "execution_count": null,
      "outputs": [
        {
          "output_type": "stream",
          "name": "stdout",
          "text": [
            "     nomes idades\n",
            "A    Jason     21\n",
            "B    maria     19\n",
            "C  gustavo     32\n",
            "['A', 'B', 'C']\n"
          ]
        }
      ]
    },
    {
      "cell_type": "code",
      "source": [
        "import pandas as pd\n",
        "print(df)\n",
        "print(list(df.columns))"
      ],
      "metadata": {
        "colab": {
          "base_uri": "https://localhost:8080/"
        },
        "id": "mx3Pd-l7804B",
        "outputId": "37a74cf6-fbd5-4e86-cc91-60db0623a805"
      },
      "execution_count": null,
      "outputs": [
        {
          "output_type": "stream",
          "name": "stdout",
          "text": [
            "     nomes idades\n",
            "A    Jason     21\n",
            "B    maria     19\n",
            "C  gustavo     32\n",
            "['nomes', 'idades']\n"
          ]
        }
      ]
    },
    {
      "cell_type": "code",
      "source": [
        "import pandas as pd\n",
        "print(df)\n",
        "print(df.ndim)\n",
        "#2\n",
        "print(df.shape)\n",
        "#3\n",
        "print(df.size)\n",
        "#4\n",
        "print(df.empty)"
      ],
      "metadata": {
        "colab": {
          "base_uri": "https://localhost:8080/"
        },
        "id": "SCmhZB949dBC",
        "outputId": "490f2140-4e8e-41d2-9cae-edb54df3be00"
      },
      "execution_count": null,
      "outputs": [
        {
          "output_type": "stream",
          "name": "stdout",
          "text": [
            "     nomes idades\n",
            "A    Jason     21\n",
            "B    maria     19\n",
            "C  gustavo     32\n",
            "2\n",
            "(3, 2)\n",
            "False\n"
          ]
        }
      ]
    },
    {
      "cell_type": "code",
      "source": [
        "#manipulação de dados no dataframe"
      ],
      "metadata": {
        "id": "s5_NBzuxFele"
      },
      "execution_count": null,
      "outputs": []
    },
    {
      "cell_type": "code",
      "source": [
        "#Acessando os dados no dataframe\n",
        "import pandas as pd\n",
        "print (df (df[0][0], df[0][1], df [0][2]))\n",
        "print(df)"
      ],
      "metadata": {
        "colab": {
          "base_uri": "https://localhost:8080/",
          "height": 193
        },
        "id": "c7rAEacFFqbK",
        "outputId": "df891c3e-a1a2-428a-df11-21fb9b6eba7d"
      },
      "execution_count": null,
      "outputs": [
        {
          "output_type": "error",
          "ename": "NameError",
          "evalue": "name 'df' is not defined",
          "traceback": [
            "\u001b[0;31m---------------------------------------------------------------------------\u001b[0m",
            "\u001b[0;31mNameError\u001b[0m                                 Traceback (most recent call last)",
            "\u001b[0;32m<ipython-input-1-0774a0f2a3ae>\u001b[0m in \u001b[0;36m<cell line: 3>\u001b[0;34m()\u001b[0m\n\u001b[1;32m      1\u001b[0m \u001b[0;31m#Acessando os dados no dataframe\u001b[0m\u001b[0;34m\u001b[0m\u001b[0;34m\u001b[0m\u001b[0m\n\u001b[1;32m      2\u001b[0m \u001b[0;32mimport\u001b[0m \u001b[0mpandas\u001b[0m \u001b[0;32mas\u001b[0m \u001b[0mpd\u001b[0m\u001b[0;34m\u001b[0m\u001b[0;34m\u001b[0m\u001b[0m\n\u001b[0;32m----> 3\u001b[0;31m \u001b[0mprint\u001b[0m \u001b[0;34m(\u001b[0m\u001b[0mdf\u001b[0m \u001b[0;34m(\u001b[0m\u001b[0mdf\u001b[0m\u001b[0;34m[\u001b[0m\u001b[0;36m0\u001b[0m\u001b[0;34m]\u001b[0m\u001b[0;34m[\u001b[0m\u001b[0;36m0\u001b[0m\u001b[0;34m]\u001b[0m\u001b[0;34m,\u001b[0m \u001b[0mdf\u001b[0m\u001b[0;34m[\u001b[0m\u001b[0;36m0\u001b[0m\u001b[0;34m]\u001b[0m\u001b[0;34m[\u001b[0m\u001b[0;36m1\u001b[0m\u001b[0;34m]\u001b[0m\u001b[0;34m,\u001b[0m \u001b[0mdf\u001b[0m \u001b[0;34m[\u001b[0m\u001b[0;36m0\u001b[0m\u001b[0;34m]\u001b[0m\u001b[0;34m[\u001b[0m\u001b[0;36m2\u001b[0m\u001b[0;34m]\u001b[0m\u001b[0;34m)\u001b[0m\u001b[0;34m)\u001b[0m\u001b[0;34m\u001b[0m\u001b[0;34m\u001b[0m\u001b[0m\n\u001b[0m\u001b[1;32m      4\u001b[0m \u001b[0mprint\u001b[0m\u001b[0;34m(\u001b[0m\u001b[0mdf\u001b[0m\u001b[0;34m)\u001b[0m\u001b[0;34m\u001b[0m\u001b[0;34m\u001b[0m\u001b[0m\n",
            "\u001b[0;31mNameError\u001b[0m: name 'df' is not defined"
          ]
        }
      ]
    },
    {
      "cell_type": "code",
      "source": [
        "import pandas as pd\n",
        "print(df)\n",
        "print(df.T)"
      ],
      "metadata": {
        "colab": {
          "base_uri": "https://localhost:8080/"
        },
        "id": "S-6tEhPFHlyW",
        "outputId": "aec474cf-f8b9-4048-e950-fdff6a804ed1"
      },
      "execution_count": null,
      "outputs": [
        {
          "output_type": "stream",
          "name": "stdout",
          "text": [
            "     nomes idades\n",
            "A    Jason     21\n",
            "B    maria     19\n",
            "C  gustavo     32\n",
            "            A      B        C\n",
            "nomes   Jason  maria  gustavo\n",
            "idades     21     19       32\n"
          ]
        }
      ]
    },
    {
      "cell_type": "code",
      "source": [
        "import pandas as pd\n",
        "print(df)\n",
        "df.at['C', 'nomes']\n",
        "df.at['A', 'nomes']"
      ],
      "metadata": {
        "colab": {
          "base_uri": "https://localhost:8080/",
          "height": 105
        },
        "id": "RXMjcwTEICZC",
        "outputId": "a0943ebe-c010-4cfd-84f8-b9e52bc04d8e"
      },
      "execution_count": null,
      "outputs": [
        {
          "output_type": "stream",
          "name": "stdout",
          "text": [
            "     nomes idades\n",
            "A    Jason     21\n",
            "B    maria     19\n",
            "C  gustavo     32\n"
          ]
        },
        {
          "output_type": "execute_result",
          "data": {
            "text/plain": [
              "'Jason'"
            ],
            "application/vnd.google.colaboratory.intrinsic+json": {
              "type": "string"
            }
          },
          "metadata": {},
          "execution_count": 25
        }
      ]
    },
    {
      "cell_type": "code",
      "source": [
        "#Atividade 1\n",
        "#Dataframe - dados dos alunos\n",
        "\n",
        "import pandas as pd\n",
        "\n",
        "nome_colegas = ['andré','maria','jason','carla','beatriz']\n",
        "idade_colegas = [18, 21, 20, 19, 32]\n",
        "notas_progComp = [12, 59, 100, 76, 40]\n",
        "notas_bancoDados = [78, 43, 52, 42 ,56]\n",
        "notas_logica = [90, 92, 67, 145, 64]\n",
        "\n",
        "dados = {\n",
        "    'Nome':nome_colegas,\n",
        "    'Idade':idade_colegas,\n",
        "    'Programação de computadores':notas_progComp,\n",
        "    'Banco de dados': notas_bancoDados,\n",
        "    'Lógicas': notas_logica\n",
        "}\n",
        "\n",
        "\n",
        "soma_idade = sum(notas_logica)\n",
        "media_idade = soma_idade/len(notas_logica)\n",
        "\n",
        "soma_progComp = sum(notas_progComp)\n",
        "media_notaprog = soma_progComp/len(notas_progComp)\n",
        "\n",
        "soma_BancoDados = sum(notas_bancoDados)\n",
        "media_notabancodedados = soma_BancoDados/len(notas_bancoDados)\n",
        "\n",
        "soma_logicas = sum(notas_logica)\n",
        "media_logicas = soma_logicas/len(notas_logica)\n",
        "\n",
        "print(media_idade)\n",
        "print(media_notaprog)\n",
        "print(media_notabancodedados)\n",
        "print(media_logicas)"
      ],
      "metadata": {
        "colab": {
          "base_uri": "https://localhost:8080/"
        },
        "id": "eKqzo5Vj0mG8",
        "outputId": "38926e29-c688-479b-8db6-ad3b79a62f85"
      },
      "execution_count": null,
      "outputs": [
        {
          "output_type": "stream",
          "name": "stdout",
          "text": [
            "91.6\n",
            "57.4\n",
            "54.2\n",
            "91.6\n",
            "gustavo bobão\n"
          ]
        }
      ]
    }
  ]
}